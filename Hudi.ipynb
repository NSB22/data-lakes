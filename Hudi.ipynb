{
 "cells": [
  {
   "cell_type": "code",
   "execution_count": null,
   "id": "0c6bdbe9-d31f-4d4c-bd20-afd062021a52",
   "metadata": {},
   "outputs": [],
   "source": [
    "import pandas as pd\n",
    "import matplotlib as plt\n",
    "import numpy as np"
   ]
  },
  {
   "cell_type": "code",
   "execution_count": null,
   "id": "28657b95-4287-41ed-979f-3c709c71a3e2",
   "metadata": {},
   "outputs": [],
   "source": [
    "import os\n",
    "import json\n",
    "from pyspark.sql import SparkSession\n",
    "import pyspark.sql.functions as f\n",
    "\n",
    "os.environ[\"PYSPARK_PYTHON\"] = \"/srv/spark/.venv/bin/python\"\n",
    "os.environ[\"PYSPARK_DRIVER_PYTHON\"] = \"/srv/spark/.venv/bin/python\"\n",
    "\n",
    "def get_spark_session(app_name: str, conf_path: str = \"spark.json\") -> SparkSession:\n",
    "    spark = SparkSession.builder.appName(app_name)\n",
    "    with open(conf_path, \"r\") as conf_file:\n",
    "        cfg = json.loads(conf_file.read())\n",
    "        spark = spark.master(cfg[\"master\"]) \\\n",
    "        .config(\"spark.authenticate\", \"true\") \\\n",
    "        .config(\"spark.authenticate.secret\", cfg[\"secret\"]) \\\n",
    "        .config(\"spark.executor.memory\", \"8g\")\\\n",
    "        .config('spark.sql.catalog.spark_catalog','org.apache.spark.sql.hudi.catalog.HoodieCatalog') \\\n",
    "        .config(\"spark.serializer\", \"org.apache.spark.serializer.KryoSerializer\")\\\n",
    "        .config(\"spark.sql.hive.convertMetastoreParquet\", \"false\")\\\n",
    "        .config(\"spark.sql.catalogImplementation\", \"hive\") \\\n",
    "        .config(\"spark.jars.packages\",\"org.apache.hudi:hudi-spark-bundle_2.12:0.7.0,org.apache.spark:spark-avro_2.12:3.0.2\")\\\n",
    "        .config('spark.sql.warehouse.dir','/srv/storage/test_hudi')\n",
    "    return spark.getOrCreate()\n",
    "\n",
    "#.config('spark.sql.extensions','org.apache.spark.sql.hudi.HoodieSparkSessionExtension')\\\n",
    "\n",
    "spark = get_spark_session(\"Hudi_spark_test\")\n",
    "\n",
    "print(\"Spark Running\")"
   ]
  },
  {
   "cell_type": "code",
   "execution_count": null,
   "id": "02088ee7-543e-46a3-be32-0cf114d4ba26",
   "metadata": {},
   "outputs": [],
   "source": [
    "# Créer un DataFrame avec les données à insérer dans la table Hudi\n",
    "data = [\n",
    "    (1, \"John\"),\n",
    "    (2, \"Alice\"),\n",
    "    (3, \"Bob\")\n",
    "]\n",
    "df = spark.createDataFrame(data, [\"id\", \"name\"])\n",
    "\n",
    "# Spécifier les options de création de la table Hudi\n",
    "hudi_options = {\n",
    "    \"hoodie.table.name\": \"my_hudi_table\",\n",
    "    \"hoodie.datasource.write.operation\": \"upsert\",\n",
    "    \"hoodie.datasource.write.recordkey.field\": \"id\",\n",
    "    \"hoodie.datasource.write.partitionpath.field\": \"name\",\n",
    "    \"hoodie.datasource.write.table.type\": \"COPY_ON_WRITE\"\n",
    "}\n",
    "\n",
    "# Écrire le DataFrame dans la table Hudi\n",
    "df.write.format(\"hudi\").options(**hudi_options).mode(\"overwrite\").save()\n"
   ]
  },
  {
   "cell_type": "code",
   "execution_count": null,
   "id": "437cfb24-4edd-4c1b-90ee-f6a315efa197",
   "metadata": {},
   "outputs": [],
   "source": [
    "parquet_files = \"/srv/parquetevents/mongo_parquet/reunion/2022-09-*-reunion.snappy.parquet\"\n",
    "\n",
    "df = spark.read.parquet(parquet_files).select(\n",
    "    f.col(\"_id\").alias(\"id\"), \"date\", f.col(\"userId\").alias(\"user_id\"),\n",
    "    f.col(\"profil\").alias(\"profile\"),f.col(\"event-type\").alias(\"event_type\"),\n",
    "    \"module\",\"ua\", f.col(\"resource-type\").alias(\"resource_type\"))\n",
    "\n",
    "df.write.format(\"hudi\").save(\"/srv/storage/tests_iceberg/table\")\n"
   ]
  },
  {
   "cell_type": "code",
   "execution_count": null,
   "id": "876eb269-b12d-4c1c-932c-e7d875c89e8f",
   "metadata": {},
   "outputs": [],
   "source": [
    "import pyspark\n",
    "print(pyspark.__version__)\n"
   ]
  },
  {
   "cell_type": "code",
   "execution_count": null,
   "id": "1fec217f-0c58-44d8-bf23-b1edd3c89971",
   "metadata": {},
   "outputs": [],
   "source": [
    "spark.stop()"
   ]
  }
 ],
 "metadata": {
  "kernelspec": {
   "display_name": "Python 3 (ipykernel)",
   "language": "python",
   "name": "python3"
  },
  "language_info": {
   "codemirror_mode": {
    "name": "ipython",
    "version": 3
   },
   "file_extension": ".py",
   "mimetype": "text/x-python",
   "name": "python",
   "nbconvert_exporter": "python",
   "pygments_lexer": "ipython3",
   "version": "3.11.1"
  }
 },
 "nbformat": 4,
 "nbformat_minor": 5
}
